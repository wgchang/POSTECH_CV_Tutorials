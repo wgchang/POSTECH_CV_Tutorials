{
 "cells": [
  {
   "cell_type": "code",
   "execution_count": 90,
   "metadata": {
    "collapsed": false
   },
   "outputs": [
    {
     "name": "stdout",
     "output_type": "stream",
     "text": [
      "The autoreload extension is already loaded. To reload it, use:\n",
      "  %reload_ext autoreload\n"
     ]
    }
   ],
   "source": [
    "%load_ext autoreload\n",
    "%autoreload 2\n",
    "%matplotlib inline\n",
    "\n",
    "from __future__ import absolute_import\n",
    "from __future__ import division\n",
    "from __future__ import print_function\n",
    "\n",
    "import os\n",
    "import sys\n",
    "import math\n",
    "import numpy as np\n",
    "import tensorflow as tf\n",
    "from PIL import Image\n",
    "from matplotlib import pyplot as plt\n",
    "\n",
    "# local python package\n",
    "sys.path.append(os.path.join(os.getcwd(), '..'))\n",
    "\n",
    "from voc_loader import VOC_loader"
   ]
  },
  {
   "cell_type": "code",
   "execution_count": null,
   "metadata": {
    "collapsed": true
   },
   "outputs": [],
   "source": []
  },
  {
   "cell_type": "code",
   "execution_count": null,
   "metadata": {
    "collapsed": true
   },
   "outputs": [],
   "source": [
    "def plot_result(img, gt_seg, pred_seg, palette):\n",
    "    plt.imshow(img.astype(np.uint8))\n",
    "    plt.imshow(get_seg.astype(np.uint8))\n",
    "    \n",
    "    np.place(pred_seg, pred_seg==21, 255)\n",
    "    tmp = Image.fromarray(pred_seg, 'P')\n",
    "    tmp.putpalette(palette)\n",
    "    plt.imshow(tmp)\n",
    "    plt.show()"
   ]
  },
  {
   "cell_type": "markdown",
   "metadata": {},
   "source": [
    "## Download VOC 2012 dataset and create loader"
   ]
  },
  {
   "cell_type": "code",
   "execution_count": 83,
   "metadata": {
    "collapsed": false
   },
   "outputs": [],
   "source": [
    "if not os.path.exists('VOCdevkit'):\n",
    "    os.system('wget http://cvlab.postech.ac.kr/~jonghwan/VOC2012.tar')\n",
    "    os.system('tar xvf VOC2012.tar')\n",
    "    os.system('rm VOC2012.tar')"
   ]
  },
  {
   "cell_type": "code",
   "execution_count": 91,
   "metadata": {
    "collapsed": false
   },
   "outputs": [],
   "source": [
    "loader_params = {\n",
    "    'num_classes': 22,\n",
    "    'image_size': 448,\n",
    "    'split_root': 'VOCdevkit/VOC2012/ImageSets/Segmentation',\n",
    "    'image_root': 'VOCdevkit/VOC2012/JPEGImages',\n",
    "    'segmap_root': 'VOCdevkit/VOC2012/SegmentationClass',\n",
    "}\n",
    "loader = VOC_loader(loader_params)"
   ]
  },
  {
   "cell_type": "code",
   "execution_count": 92,
   "metadata": {
    "collapsed": false
   },
   "outputs": [],
   "source": [
    "batch = loader.get_batch(3, 'train')"
   ]
  },
  {
   "cell_type": "code",
   "execution_count": null,
   "metadata": {
    "collapsed": true
   },
   "outputs": [],
   "source": []
  }
 ],
 "metadata": {
  "kernelspec": {
   "display_name": "Python 2",
   "language": "python",
   "name": "python2"
  },
  "language_info": {
   "codemirror_mode": {
    "name": "ipython",
    "version": 2
   },
   "file_extension": ".py",
   "mimetype": "text/x-python",
   "name": "python",
   "nbconvert_exporter": "python",
   "pygments_lexer": "ipython2",
   "version": "2.7.6"
  }
 },
 "nbformat": 4,
 "nbformat_minor": 0
}
